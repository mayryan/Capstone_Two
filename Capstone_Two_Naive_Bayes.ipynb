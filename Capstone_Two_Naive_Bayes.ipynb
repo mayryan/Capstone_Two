{
 "cells": [
  {
   "cell_type": "code",
   "execution_count": 2,
   "metadata": {},
   "outputs": [],
   "source": [
    "import numpy as np\n",
    "import pandas as pd\n",
    "import scipy as sp\n",
    "import matplotlib as mpl\n",
    "import matplotlib.cm as cm\n",
    "import matplotlib.pyplot as plt\n",
    "import networkx as nx\n",
    "import seaborn as sns\n",
    "pd.set_option('float_format', '{:f}'.format)\n",
    "%matplotlib inline\n",
    "%config InlineBackend.figure_format='retina'\n",
    "from matplotlib import cm\n",
    "from collections import OrderedDict\n",
    "\n",
    "cmaps = OrderedDict()\n"
   ]
  },
  {
   "cell_type": "code",
   "execution_count": 3,
   "metadata": {},
   "outputs": [],
   "source": [
    "cmaps['Perceptually Uniform Sequential'] = [\n",
    "            'viridis', 'plasma', 'inferno', 'magma', 'cividis']\n",
    "\n",
    "cmaps['Sequential'] = [\n",
    "            'Greys', 'Purples', 'Blues', 'Greens', 'Oranges', 'Reds',\n",
    "            'YlOrBr', 'YlOrRd', 'OrRd', 'PuRd', 'RdPu', 'BuPu',\n",
    "            'GnBu', 'PuBu', 'YlGnBu', 'PuBuGn', 'BuGn', 'YlGn']\n",
    "cmaps['Sequential (2)'] = [\n",
    "            'binary', 'gist_yarg', 'gist_gray', 'gray', 'bone', 'pink',\n",
    "            'spring', 'summer', 'autumn', 'winter', 'cool', 'Wistia',\n",
    "            'hot', 'afmhot', 'gist_heat', 'copper']"
   ]
  },
  {
   "cell_type": "code",
   "execution_count": 4,
   "metadata": {},
   "outputs": [],
   "source": [
    "tweets=pd.read_csv('C:\\\\Users\\\\Ryan May\\\\Documents\\\\Capstone_Two\\\\tweets.csv', low_memory=False)"
   ]
  },
  {
   "cell_type": "code",
   "execution_count": 5,
   "metadata": {},
   "outputs": [],
   "source": [
    "users=pd.read_csv('C:\\\\Users\\\\Ryan May\\\\Documents\\\\Capstone_Two\\\\users.csv', low_memory=False)"
   ]
  },
  {
   "cell_type": "code",
   "execution_count": 6,
   "metadata": {},
   "outputs": [
    {
     "data": {
      "text/plain": [
       "Index(['user_id', 'user_key', 'created_at', 'created_str', 'retweet_count',\n",
       "       'retweeted', 'favorite_count', 'text', 'tweet_id', 'source', 'hashtags',\n",
       "       'expanded_urls', 'posted', 'mentions', 'retweeted_status_id',\n",
       "       'in_reply_to_status_id'],\n",
       "      dtype='object')"
      ]
     },
     "execution_count": 6,
     "metadata": {},
     "output_type": "execute_result"
    }
   ],
   "source": [
    "tweets.columns"
   ]
  },
  {
   "cell_type": "code",
   "execution_count": 7,
   "metadata": {},
   "outputs": [
    {
     "data": {
      "text/plain": [
       "Index(['id', 'location', 'name', 'followers_count', 'statuses_count',\n",
       "       'time_zone', 'verified', 'lang', 'screen_name', 'description',\n",
       "       'created_at', 'favourites_count', 'friends_count', 'listed_count'],\n",
       "      dtype='object')"
      ]
     },
     "execution_count": 7,
     "metadata": {},
     "output_type": "execute_result"
    }
   ],
   "source": [
    "users.columns"
   ]
  },
  {
   "cell_type": "code",
   "execution_count": 8,
   "metadata": {},
   "outputs": [
    {
     "name": "stdout",
     "output_type": "stream",
     "text": [
      "<class 'pandas.core.frame.DataFrame'>\n",
      "RangeIndex: 454 entries, 0 to 453\n",
      "Data columns (total 14 columns):\n",
      "id                  393 non-null float64\n",
      "location            285 non-null object\n",
      "name                384 non-null object\n",
      "followers_count     384 non-null float64\n",
      "statuses_count      384 non-null float64\n",
      "time_zone           369 non-null object\n",
      "verified            384 non-null object\n",
      "lang                384 non-null object\n",
      "screen_name         454 non-null object\n",
      "description         339 non-null object\n",
      "created_at          384 non-null object\n",
      "favourites_count    384 non-null float64\n",
      "friends_count       384 non-null float64\n",
      "listed_count        384 non-null float64\n",
      "dtypes: float64(6), object(8)\n",
      "memory usage: 49.7+ KB\n"
     ]
    }
   ],
   "source": [
    "users.info()"
   ]
  },
  {
   "cell_type": "code",
   "execution_count": 9,
   "metadata": {},
   "outputs": [
    {
     "name": "stdout",
     "output_type": "stream",
     "text": [
      "<class 'pandas.core.frame.DataFrame'>\n",
      "RangeIndex: 203482 entries, 0 to 203481\n",
      "Data columns (total 16 columns):\n",
      "user_id                  195417 non-null float64\n",
      "user_key                 203482 non-null object\n",
      "created_at               203461 non-null float64\n",
      "created_str              203461 non-null object\n",
      "retweet_count            58083 non-null float64\n",
      "retweeted                58083 non-null object\n",
      "favorite_count           58083 non-null float64\n",
      "text                     203461 non-null object\n",
      "tweet_id                 201168 non-null float64\n",
      "source                   58084 non-null object\n",
      "hashtags                 203482 non-null object\n",
      "expanded_urls            203482 non-null object\n",
      "posted                   203482 non-null object\n",
      "mentions                 203482 non-null object\n",
      "retweeted_status_id      39651 non-null float64\n",
      "in_reply_to_status_id    559 non-null float64\n",
      "dtypes: float64(7), object(9)\n",
      "memory usage: 24.8+ MB\n"
     ]
    }
   ],
   "source": [
    "tweets.info()"
   ]
  },
  {
   "cell_type": "code",
   "execution_count": 10,
   "metadata": {},
   "outputs": [],
   "source": [
    "tweets['created_str']=pd.to_datetime(tweets['created_str'])"
   ]
  },
  {
   "cell_type": "code",
   "execution_count": 11,
   "metadata": {},
   "outputs": [],
   "source": [
    "users['created_at']=pd.to_datetime(users['created_at'])"
   ]
  },
  {
   "cell_type": "code",
   "execution_count": 12,
   "metadata": {},
   "outputs": [],
   "source": [
    "tweets['month_tweeted']=tweets['created_str'].dt.month"
   ]
  },
  {
   "cell_type": "code",
   "execution_count": 13,
   "metadata": {},
   "outputs": [],
   "source": [
    "tweets['year_tweeted']=tweets['created_str'].dt.year"
   ]
  },
  {
   "cell_type": "code",
   "execution_count": 14,
   "metadata": {},
   "outputs": [],
   "source": [
    "tweets.to_csv('tweets.csv')\n",
    "users.to_csv('users.csv')"
   ]
  },
  {
   "cell_type": "code",
   "execution_count": 15,
   "metadata": {},
   "outputs": [
    {
     "data": {
      "text/html": [
       "<div>\n",
       "<style scoped>\n",
       "    .dataframe tbody tr th:only-of-type {\n",
       "        vertical-align: middle;\n",
       "    }\n",
       "\n",
       "    .dataframe tbody tr th {\n",
       "        vertical-align: top;\n",
       "    }\n",
       "\n",
       "    .dataframe thead th {\n",
       "        text-align: right;\n",
       "    }\n",
       "</style>\n",
       "<table border=\"1\" class=\"dataframe\">\n",
       "  <thead>\n",
       "    <tr style=\"text-align: right;\">\n",
       "      <th></th>\n",
       "      <th>user_id</th>\n",
       "      <th>user_key</th>\n",
       "      <th>created_at</th>\n",
       "      <th>created_str</th>\n",
       "      <th>retweet_count</th>\n",
       "      <th>retweeted</th>\n",
       "      <th>favorite_count</th>\n",
       "      <th>text</th>\n",
       "      <th>tweet_id</th>\n",
       "      <th>source</th>\n",
       "      <th>hashtags</th>\n",
       "      <th>expanded_urls</th>\n",
       "      <th>posted</th>\n",
       "      <th>mentions</th>\n",
       "      <th>retweeted_status_id</th>\n",
       "      <th>in_reply_to_status_id</th>\n",
       "      <th>month_tweeted</th>\n",
       "      <th>year_tweeted</th>\n",
       "    </tr>\n",
       "  </thead>\n",
       "  <tbody>\n",
       "    <tr>\n",
       "      <th>0</th>\n",
       "      <td>1868981054.000000</td>\n",
       "      <td>ryanmaxwell_1</td>\n",
       "      <td>1458671502000.000000</td>\n",
       "      <td>2016-03-22 18:31:42</td>\n",
       "      <td>nan</td>\n",
       "      <td>NaN</td>\n",
       "      <td>nan</td>\n",
       "      <td>#IslamKills Are you trying to say that there w...</td>\n",
       "      <td>712346027861405696.000000</td>\n",
       "      <td>NaN</td>\n",
       "      <td>[\"IslamKills\"]</td>\n",
       "      <td>[]</td>\n",
       "      <td>POSTED</td>\n",
       "      <td>[]</td>\n",
       "      <td>nan</td>\n",
       "      <td>nan</td>\n",
       "      <td>3.000000</td>\n",
       "      <td>2016.000000</td>\n",
       "    </tr>\n",
       "    <tr>\n",
       "      <th>1</th>\n",
       "      <td>2571870453.000000</td>\n",
       "      <td>detroitdailynew</td>\n",
       "      <td>1476133020000.000000</td>\n",
       "      <td>2016-10-10 20:57:00</td>\n",
       "      <td>0.000000</td>\n",
       "      <td>False</td>\n",
       "      <td>0.000000</td>\n",
       "      <td>Clinton: Trump should’ve apologized more, atta...</td>\n",
       "      <td>785584942356967424.000000</td>\n",
       "      <td>&lt;a href=\"http://twitterfeed.com\" rel=\"nofollow...</td>\n",
       "      <td>[]</td>\n",
       "      <td>[\"http://detne.ws/2e172jF\"]</td>\n",
       "      <td>POSTED</td>\n",
       "      <td>[]</td>\n",
       "      <td>nan</td>\n",
       "      <td>nan</td>\n",
       "      <td>10.000000</td>\n",
       "      <td>2016.000000</td>\n",
       "    </tr>\n",
       "    <tr>\n",
       "      <th>2</th>\n",
       "      <td>1710804738.000000</td>\n",
       "      <td>cookncooks</td>\n",
       "      <td>1487767423000.000000</td>\n",
       "      <td>2017-02-22 12:43:43</td>\n",
       "      <td>nan</td>\n",
       "      <td>NaN</td>\n",
       "      <td>nan</td>\n",
       "      <td>RT @ltapoll: Who was/is the best president of ...</td>\n",
       "      <td>834383165359788032.000000</td>\n",
       "      <td>NaN</td>\n",
       "      <td>[]</td>\n",
       "      <td>[]</td>\n",
       "      <td>POSTED</td>\n",
       "      <td>[]</td>\n",
       "      <td>nan</td>\n",
       "      <td>nan</td>\n",
       "      <td>2.000000</td>\n",
       "      <td>2017.000000</td>\n",
       "    </tr>\n",
       "    <tr>\n",
       "      <th>3</th>\n",
       "      <td>2584152521.000000</td>\n",
       "      <td>queenofthewo</td>\n",
       "      <td>1482764801000.000000</td>\n",
       "      <td>2016-12-26 15:06:41</td>\n",
       "      <td>nan</td>\n",
       "      <td>NaN</td>\n",
       "      <td>nan</td>\n",
       "      <td>RT @jww372: I don't have to guess your religio...</td>\n",
       "      <td>813400649912217600.000000</td>\n",
       "      <td>NaN</td>\n",
       "      <td>[\"ChristmasAftermath\"]</td>\n",
       "      <td>[]</td>\n",
       "      <td>POSTED</td>\n",
       "      <td>[]</td>\n",
       "      <td>nan</td>\n",
       "      <td>nan</td>\n",
       "      <td>12.000000</td>\n",
       "      <td>2016.000000</td>\n",
       "    </tr>\n",
       "    <tr>\n",
       "      <th>4</th>\n",
       "      <td>1768259989.000000</td>\n",
       "      <td>mrclydepratt</td>\n",
       "      <td>1501986984000.000000</td>\n",
       "      <td>2017-08-06 02:36:24</td>\n",
       "      <td>nan</td>\n",
       "      <td>NaN</td>\n",
       "      <td>nan</td>\n",
       "      <td>RT @Shareblue: Pence and his lawyers decided w...</td>\n",
       "      <td>894024327049363456.000000</td>\n",
       "      <td>NaN</td>\n",
       "      <td>[]</td>\n",
       "      <td>[]</td>\n",
       "      <td>POSTED</td>\n",
       "      <td>[]</td>\n",
       "      <td>nan</td>\n",
       "      <td>nan</td>\n",
       "      <td>8.000000</td>\n",
       "      <td>2017.000000</td>\n",
       "    </tr>\n",
       "  </tbody>\n",
       "</table>\n",
       "</div>"
      ],
      "text/plain": [
       "            user_id         user_key           created_at         created_str  \\\n",
       "0 1868981054.000000    ryanmaxwell_1 1458671502000.000000 2016-03-22 18:31:42   \n",
       "1 2571870453.000000  detroitdailynew 1476133020000.000000 2016-10-10 20:57:00   \n",
       "2 1710804738.000000       cookncooks 1487767423000.000000 2017-02-22 12:43:43   \n",
       "3 2584152521.000000     queenofthewo 1482764801000.000000 2016-12-26 15:06:41   \n",
       "4 1768259989.000000     mrclydepratt 1501986984000.000000 2017-08-06 02:36:24   \n",
       "\n",
       "   retweet_count retweeted  favorite_count  \\\n",
       "0            nan       NaN             nan   \n",
       "1       0.000000     False        0.000000   \n",
       "2            nan       NaN             nan   \n",
       "3            nan       NaN             nan   \n",
       "4            nan       NaN             nan   \n",
       "\n",
       "                                                text  \\\n",
       "0  #IslamKills Are you trying to say that there w...   \n",
       "1  Clinton: Trump should’ve apologized more, atta...   \n",
       "2  RT @ltapoll: Who was/is the best president of ...   \n",
       "3  RT @jww372: I don't have to guess your religio...   \n",
       "4  RT @Shareblue: Pence and his lawyers decided w...   \n",
       "\n",
       "                   tweet_id  \\\n",
       "0 712346027861405696.000000   \n",
       "1 785584942356967424.000000   \n",
       "2 834383165359788032.000000   \n",
       "3 813400649912217600.000000   \n",
       "4 894024327049363456.000000   \n",
       "\n",
       "                                              source                hashtags  \\\n",
       "0                                                NaN          [\"IslamKills\"]   \n",
       "1  <a href=\"http://twitterfeed.com\" rel=\"nofollow...                      []   \n",
       "2                                                NaN                      []   \n",
       "3                                                NaN  [\"ChristmasAftermath\"]   \n",
       "4                                                NaN                      []   \n",
       "\n",
       "                 expanded_urls  posted mentions  retweeted_status_id  \\\n",
       "0                           []  POSTED       []                  nan   \n",
       "1  [\"http://detne.ws/2e172jF\"]  POSTED       []                  nan   \n",
       "2                           []  POSTED       []                  nan   \n",
       "3                           []  POSTED       []                  nan   \n",
       "4                           []  POSTED       []                  nan   \n",
       "\n",
       "   in_reply_to_status_id  month_tweeted  year_tweeted  \n",
       "0                    nan       3.000000   2016.000000  \n",
       "1                    nan      10.000000   2016.000000  \n",
       "2                    nan       2.000000   2017.000000  \n",
       "3                    nan      12.000000   2016.000000  \n",
       "4                    nan       8.000000   2017.000000  "
      ]
     },
     "execution_count": 15,
     "metadata": {},
     "output_type": "execute_result"
    }
   ],
   "source": [
    "tweets=tweets[~tweets.text.isnull()]\n",
    "tweets.head()"
   ]
  },
  {
   "cell_type": "code",
   "execution_count": 16,
   "metadata": {},
   "outputs": [
    {
     "name": "stdout",
     "output_type": "stream",
     "text": [
      "394\n",
      "203461\n"
     ]
    }
   ],
   "source": [
    "n_tweets=len(tweets.tweet_id)\n",
    "n_users=tweets.user_id.unique().size\n",
    "print(n_users)\n",
    "print(n_tweets)"
   ]
  },
  {
   "cell_type": "code",
   "execution_count": 17,
   "metadata": {},
   "outputs": [],
   "source": [
    "user_grp=tweets.groupby('user_key')"
   ]
  },
  {
   "cell_type": "code",
   "execution_count": 18,
   "metadata": {},
   "outputs": [],
   "source": [
    "tweet_count=user_grp.tweet_id.count()"
   ]
  },
  {
   "cell_type": "code",
   "execution_count": 19,
   "metadata": {},
   "outputs": [
    {
     "data": {
      "image/png": "[encoded data removed]",
      "text/plain": [
       "<Figure size 432x288 with 1 Axes>"
      ]
     },
     "metadata": {
      "image/png": {
       "height": 277,
       "width": 390
      }
     },
     "output_type": "display_data"
    }
   ],
   "source": [
    "plt.hist(tweet_count, bins=25)\n",
    "plt.xlabel(\"Average Number of Tweets\")\n",
    "plt.title(\"Average Number of Tweets By Users\")\n",
    "plt.ylabel(\"Number of Users\")\n",
    "plt.show()"
   ]
  },
  {
   "cell_type": "code",
   "execution_count": 18,
   "metadata": {},
   "outputs": [
    {
     "name": "stdout",
     "output_type": "stream",
     "text": [
      "394\n"
     ]
    }
   ],
   "source": [
    "n_users_id=users.id.unique().size\n",
    "print(n_users_id)"
   ]
  },
  {
   "cell_type": "code",
   "execution_count": 19,
   "metadata": {},
   "outputs": [],
   "source": [
    "fav_count=len(users.favourites_count)"
   ]
  },
  {
   "cell_type": "code",
   "execution_count": 20,
   "metadata": {},
   "outputs": [],
   "source": [
    "user_id=users.groupby('id')"
   ]
  },
  {
   "cell_type": "code",
   "execution_count": 21,
   "metadata": {},
   "outputs": [],
   "source": [
    "favorites_count=user_id.favourites_count.count()\n"
   ]
  },
  {
   "cell_type": "code",
   "execution_count": 22,
   "metadata": {},
   "outputs": [
    {
     "data": {
      "text/plain": [
       "1    384\n",
       "0      9\n",
       "Name: favourites_count, dtype: int64"
      ]
     },
     "execution_count": 22,
     "metadata": {},
     "output_type": "execute_result"
    }
   ],
   "source": [
    "favorites_count.value_counts()"
   ]
  },
  {
   "cell_type": "code",
   "execution_count": 23,
   "metadata": {},
   "outputs": [
    {
     "data": {
      "image/png": "[encoded data removed]",
      "text/plain": [
       "<Figure size 432x288 with 1 Axes>"
      ]
     },
     "metadata": {
      "image/png": {
       "height": 263,
       "width": 390
      }
     },
     "output_type": "display_data"
    }
   ],
   "source": [
    "plt.hist(favorites_count, bins=5)\n",
    "plt.xlabel(\"Average Number of Favorites\")\n",
    "plt.ylabel(\"Number of Users\")\n",
    "plt.show()"
   ]
  },
  {
   "cell_type": "code",
   "execution_count": 24,
   "metadata": {},
   "outputs": [],
   "source": [
    "from sklearn.feature_extraction.text import CountVectorizer\n",
    "vectorizer=CountVectorizer(min_df=0)"
   ]
  },
  {
   "cell_type": "code",
   "execution_count": 25,
   "metadata": {},
   "outputs": [],
   "source": [
    "def make_xy(tweets, vectorizer=None):\n",
    "    if vectorizer is None:\n",
    "        vectorizer=CountVectorizer()\n",
    "    X=vectorizer.fit_transform(tweets.text)\n",
    "    X=X.tocsc()\n",
    "    y=(tweets.favorite_count).values.astype(np.int)\n",
    "    return X,y\n",
    "X,y=make_xy(tweets)"
   ]
  },
  {
   "cell_type": "code",
   "execution_count": 26,
   "metadata": {},
   "outputs": [],
   "source": [
    "from sklearn.model_selection import train_test_split\n",
    "from sklearn.naive_bayes import MultinomialNB"
   ]
  },
  {
   "cell_type": "code",
   "execution_count": 27,
   "metadata": {},
   "outputs": [],
   "source": [
    "Xtrain, Xtest, ytrain, ytest=train_test_split(X,y, random_state=1)\n",
    "mnb=MultinomialNB()\n",
    "mnb.fit(Xtrain, ytrain)\n",
    "ypred=mnb.predict(Xtest)"
   ]
  },
  {
   "cell_type": "code",
   "execution_count": 28,
   "metadata": {},
   "outputs": [
    {
     "name": "stdout",
     "output_type": "stream",
     "text": [
      "Training Accuracy: 0.8870474130869295\n",
      "Testing Accuracy: 0.8404041992686667\n"
     ]
    }
   ],
   "source": [
    "print('Training Accuracy:', mnb.score(Xtrain, ytrain))\n",
    "print('Testing Accuracy:', mnb.score(Xtest,ytest))"
   ]
  },
  {
   "cell_type": "code",
   "execution_count": 29,
   "metadata": {},
   "outputs": [],
   "source": [
    "X,y=make_xy(tweets)"
   ]
  },
  {
   "cell_type": "code",
   "execution_count": 30,
   "metadata": {},
   "outputs": [],
   "source": [
    "doc_freq=sorted((X>0).sum(axis=0).tolist()[0])"
   ]
  },
  {
   "cell_type": "code",
   "execution_count": 31,
   "metadata": {},
   "outputs": [
    {
     "name": "stderr",
     "output_type": "stream",
     "text": [
      "C:\\Users\\Ryan May\\Downloads\\Anaconda\\Newr\\lib\\site-packages\\matplotlib\\axes\\_axes.py:6462: UserWarning: The 'normed' kwarg is deprecated, and has been replaced by the 'density' kwarg.\n",
      "  warnings.warn(\"The 'normed' kwarg is deprecated, and has been \"\n"
     ]
    },
    {
     "data": {
      "image/png": "[encoded data removed]",
      "text/plain": [
       "<Figure size 432x288 with 1 Axes>"
      ]
     },
     "metadata": {
      "image/png": {
       "height": 291,
       "width": 395
      }
     },
     "output_type": "display_data"
    }
   ],
   "source": [
    "plt.hist(pd.Series(doc_freq), np.arange(pd.Series(doc_freq).sum()), cumulative=True,histtype='stepfilled',normed=True)\n",
    "plt.title('CDF of DF')\n",
    "plt.xlabel('Tweet Frequency')\n",
    "plt.ylabel('Percentage of Words that Appear in X or Fewer Tweets')\n",
    "plt.xlim(-1,500)\n",
    "plt.show()"
   ]
  },
  {
   "cell_type": "code",
   "execution_count": 32,
   "metadata": {},
   "outputs": [],
   "source": [
    "from sklearn.model_selection import KFold\n",
    "def cv_score(clf, X, y, scorefunc):\n",
    "    result=0\n",
    "    nfold=10\n",
    "    for train, test in KFold(nfold).split(X):\n",
    "        clf.fit(X[train], y[train])\n",
    "        result += scorefunc(clf, X[test], y[test])\n",
    "    return result / nfold"
   ]
  },
  {
   "cell_type": "code",
   "execution_count": 33,
   "metadata": {},
   "outputs": [],
   "source": [
    "def log_likelihood(clf, x, y):\n",
    "    prob=clf.predict_log_proba(x)\n",
    "    pro_trump = y == 0\n",
    "    anti_hillary = ~pro_trump\n",
    "    return prob[pro_trump, 0].sum() + prob[anti_hillary, 1].sum()"
   ]
  },
  {
   "cell_type": "code",
   "execution_count": 34,
   "metadata": {},
   "outputs": [
    {
     "name": "stderr",
     "output_type": "stream",
     "text": [
      "C:\\Users\\Ryan May\\Downloads\\Anaconda\\Newr\\lib\\site-packages\\sklearn\\model_selection\\_split.py:2026: FutureWarning: From version 0.21, test_size will always complement train_size unless both are specified.\n",
      "  FutureWarning)\n"
     ]
    }
   ],
   "source": [
    "from sklearn.model_selection import train_test_split\n",
    "_, itest=train_test_split(range(tweets.shape[0]), train_size=0.7)\n",
    "mask=np.zeros(tweets.shape[0], dtype=np.bool)\n",
    "mask[itest]=True"
   ]
  },
  {
   "cell_type": "code",
   "execution_count": 35,
   "metadata": {},
   "outputs": [],
   "source": [
    "from sklearn.naive_bayes import MultinomialNB\n",
    "alphas=[0.01, 0.1, 1, 5]"
   ]
  },
  {
   "cell_type": "code",
   "execution_count": 36,
   "metadata": {},
   "outputs": [
    {
     "name": "stdout",
     "output_type": "stream",
     "text": [
      "Best Min DF: 0.1\n",
      "Best Score: -8103.055944192807\n"
     ]
    }
   ],
   "source": [
    "best_min_df=None\n",
    "min_dfs=[0.1, 0.01, 1, 2, 5]\n",
    "best_alpha=None\n",
    "maxscore=-np.inf\n",
    "for min_df in min_dfs:\n",
    "    for alpha in alphas:\n",
    "        vectorizer=CountVectorizer(min_df=min_df)\n",
    "        X2, y2 = make_xy(tweets, vectorizer)\n",
    "        X2train = X2[mask]\n",
    "        y2train = y2[mask]\n",
    "        mnb2 = MultinomialNB(alpha=alpha)\n",
    "        score = cv_score(mnb2, X2train, y2train, log_likelihood)\n",
    "        if score > maxscore:\n",
    "            maxscore = score\n",
    "            best_min_df = min_df\n",
    "            best_alpha = alpha\n",
    "            \n",
    "print('Best Min DF:', best_min_df)\n",
    "print('Best Score:', maxscore)"
   ]
  },
  {
   "cell_type": "code",
   "execution_count": 37,
   "metadata": {},
   "outputs": [
    {
     "name": "stdout",
     "output_type": "stream",
     "text": [
      "alpha: 0.01\n"
     ]
    }
   ],
   "source": [
    "print(\"alpha: {}\".format(best_alpha))"
   ]
  },
  {
   "cell_type": "code",
   "execution_count": 38,
   "metadata": {},
   "outputs": [],
   "source": [
    "vectorizer=CountVectorizer(min_df=best_min_df)\n",
    "X,y=make_xy(tweets, vectorizer)\n",
    "xtrain=X[mask]\n",
    "ytrain=y[mask]\n",
    "xtest=X[mask]\n",
    "ytest=y[mask]\n",
    "mnb3=MultinomialNB(alpha=best_alpha).fit(xtrain, ytrain)"
   ]
  },
  {
   "cell_type": "code",
   "execution_count": 39,
   "metadata": {},
   "outputs": [],
   "source": [
    "training_accuracy=mnb3.score(xtrain, ytrain)"
   ]
  },
  {
   "cell_type": "code",
   "execution_count": 40,
   "metadata": {},
   "outputs": [
    {
     "name": "stdout",
     "output_type": "stream",
     "text": [
      "0.7626763216959649\n"
     ]
    }
   ],
   "source": [
    "print(training_accuracy)"
   ]
  },
  {
   "cell_type": "code",
   "execution_count": 41,
   "metadata": {},
   "outputs": [],
   "source": [
    "xtrain, xtest, ytrain, ytest=train_test_split(X,y, random_state=1)\n",
    "mnb=MultinomialNB()\n",
    "mnb3.fit(xtrain, ytrain)\n",
    "ypred1=mnb3.predict(xtest)"
   ]
  },
  {
   "cell_type": "code",
   "execution_count": 42,
   "metadata": {},
   "outputs": [
    {
     "name": "stdout",
     "output_type": "stream",
     "text": [
      "Training Accuracy: 0.7626763216959649\n"
     ]
    }
   ],
   "source": [
    "print('Training Accuracy:', training_accuracy)"
   ]
  },
  {
   "cell_type": "code",
   "execution_count": 43,
   "metadata": {},
   "outputs": [
    {
     "name": "stdout",
     "output_type": "stream",
     "text": [
      "Test Accuracy: 0.7632996500609445\n"
     ]
    }
   ],
   "source": [
    "print('Test Accuracy:', mnb3.score(xtest,ytest))"
   ]
  },
  {
   "cell_type": "code",
   "execution_count": 44,
   "metadata": {},
   "outputs": [],
   "source": [
    "words=np.array(vectorizer.get_feature_names())"
   ]
  },
  {
   "cell_type": "code",
   "execution_count": 45,
   "metadata": {},
   "outputs": [
    {
     "name": "stdout",
     "output_type": "stream",
     "text": [
      "Good words\t     P(Good | word)\n",
      "               trump 0.68\n",
      "               https 0.32\n",
      "                 for 0.32\n",
      "                  co 0.30\n",
      "                  is 0.29\n",
      "                  to 0.28\n",
      "                  in 0.28\n",
      "                  of 0.28\n",
      "                 the 0.25\n",
      "                 and 0.25\n",
      "Bad words\t     P(Bad | word)\n",
      "                 for 0.32\n",
      "                  co 0.30\n",
      "                  is 0.29\n",
      "                  to 0.28\n",
      "                  in 0.28\n",
      "                  of 0.28\n",
      "                 the 0.25\n",
      "                 and 0.25\n",
      "                  rt 0.21\n",
      "                 you 0.19\n"
     ]
    }
   ],
   "source": [
    "x=np.eye(xtest.shape[1])\n",
    "probs=mnb3.predict_log_proba(x)[:,0]\n",
    "ind=np.argsort(probs)\n",
    "good_words=words[ind[:10]]\n",
    "bad_words=words[ind[-10:]]\n",
    "good_prob=probs[ind[:10]]\n",
    "bad_prob=probs[ind[-10:]]\n",
    "print(\"Good words\\t     P(Good | word)\")\n",
    "for w, p in zip(good_words, good_prob):\n",
    "    print(\"{:>20}\".format(w), \"{:.2f}\".format(1 - np.exp(p)))\n",
    "    \n",
    "print(\"Bad words\\t     P(Bad | word)\")\n",
    "for w, p in zip(bad_words, bad_prob):\n",
    "    print(\"{:>20}\".format(w), \"{:.2f}\".format(1 - np.exp(p)))"
   ]
  },
  {
   "cell_type": "code",
   "execution_count": 46,
   "metadata": {},
   "outputs": [],
   "source": [
    "x, y =make_xy(tweets, vectorizer)\n",
    "prob = mnb3.predict_proba(x)[:, 0]\n",
    "predict = mnb3.predict(x)\n",
    "incorr_bad = np.argsort(prob[y==0])[:5]\n",
    "incorr_good = np.argsort(prob[y==1])[-5:]"
   ]
  },
  {
   "cell_type": "code",
   "execution_count": 47,
   "metadata": {},
   "outputs": [
    {
     "name": "stdout",
     "output_type": "stream",
     "text": [
      "Mis-predicted Bad quotes\n",
      "---------------------------\n",
      "#TheTroubleWithAddiction Trump Trump Trump, where is my Trump, I need more Trump, is there Trump? Trump Trump Trump. Gotta have my Trump\n",
      "\n",
      "RT @MasterGuns1313: Own a Gun, Vote Trump\n",
      "Want Jobs, Vote Trump\n",
      "Want Change, Vote Trump\n",
      "MAGA, Vote Trump\n",
      "America First, Vote Trump\n",
      "hillary…\n",
      "\n",
      "RT @Reverend_Scott: TRUMP 911: What's your emer-\n",
      "\n",
      "TRUMP: THE MEXICANS-\n",
      "\n",
      "TRUMP 911: You interrupted me\n",
      "\n",
      "TRUMP: YOU INTERRUPTED ME\n",
      "\n",
      "TRUMP 911…\n",
      "\n",
      "RT @SkaiJacksonxoxo: TRUMP IS NOT MY PRESIDENT\n",
      "TRUMP IS NOT MY PRESIDENT\n",
      "TRUMP CAN NEVER BE MY PRESIDENT\n",
      "TRUMP IS NOT MY PRESIDENT #RIPAmer…\n",
      "\n",
      "RT @TXIconoclast: @GovernorHuckabee 4 #Trump so loser daughter job w #Trump\n",
      "Not care #Trump grabs her Pussy\n",
      "Watches #Trump bang wife\n",
      "https:…\n",
      "\n",
      "Mis-predicted Good quotes\n",
      "--------------------------\n",
      "RT @MarkAlmost: MT @Lacy0902: Why is it you need a background check for a Gun but NOT to be #POTUS? #ArticleV https://t.co/t0TvGPBR3Q #COSP…\n",
      "\n",
      "@realDonaldTrump good luck today.  Thank you for working so hard for us! We believe in you and each other to #MAGA! #TrumpForPresident\n",
      "\n",
      "RT if you voted to #MakeAmericaGreatAgain ! #ElectionNight https://t.co/inTiTOYmyq\n",
      "\n",
      "RT @mikandynothem: Obama releases this man from Gitmo and is now top world terrorist. THIS is why you don't vote Democrat. #tcot #pjnet htt…\n",
      "\n",
      "So you're moving to Canada after the election, eh? 10 tips to help you cross the border and fit in https://t.co/WLNnoyAG5B\n",
      "\n"
     ]
    }
   ],
   "source": [
    "print(\"Mis-predicted Bad quotes\")\n",
    "print('---------------------------')\n",
    "for row in incorr_bad:\n",
    "    print(tweets[y == 0].text.iloc[row])\n",
    "    print(\"\")\n",
    "\n",
    "print(\"Mis-predicted Good quotes\")\n",
    "print('--------------------------')\n",
    "for row in incorr_good:\n",
    "    print(tweets[y == 1].text.iloc[row])\n",
    "    print(\"\")"
   ]
  },
  {
   "cell_type": "code",
   "execution_count": 54,
   "metadata": {},
   "outputs": [
    {
     "data": {
      "text/plain": [
       "[]                                                                                                                               114676\n",
       "[\"Politics\"]                                                                                                                       3143\n",
       "[\"news\"]                                                                                                                           1469\n",
       "[\"tcot\"]                                                                                                                           1033\n",
       "[\"MerkelMussBleiben\"]                                                                                                               796\n",
       "[\"RejectedDebateTopics\"]                                                                                                            614\n",
       "[\"Trump\"]                                                                                                                           551\n",
       "[\"ThingsYouCantIgnore\"]                                                                                                             526\n",
       "[\"SurvivalGuideToThanksgiving\"]                                                                                                     518\n",
       "[\"maga\"]                                                                                                                            517\n",
       "[\"IdRunForPresidentIf\"]                                                                                                             494\n",
       "[\"ChristmasAftermath\"]                                                                                                              492\n",
       "[\"BetterAlternativeToDebates\"]                                                                                                      492\n",
       "[\"ThingsMoreTrustedThanHillary\"]                                                                                                    492\n",
       "[\"nowplaying\"]                                                                                                                      479\n",
       "[\"IslamKills\"]                                                                                                                      476\n",
       "[\"IHaveARightToKnow\"]                                                                                                               475\n",
       "[\"pjnet\"]                                                                                                                           472\n",
       "[\"RuinADinnerInOnePhrase\"]                                                                                                          469\n",
       "[\"RealLifeMagicSpells\"]                                                                                                             469\n",
       "[\"GiftIdeasForPoliticians\"]                                                                                                         459\n",
       "[\"MakeMeHateYouInOnePhrase\"]                                                                                                        442\n",
       "[\"ItsRiskyTo\"]                                                                                                                      434\n",
       "[\"Blacklivesmatter\"]                                                                                                                420\n",
       "[\"WakeUpAmerica\"]                                                                                                                   415\n",
       "[\"2016In4Words\"]                                                                                                                    413\n",
       "[\"SecondhandGifts\"]                                                                                                                 394\n",
       "[\"TrumpsFavoriteHeadline\"]                                                                                                          386\n",
       "[\"ToDoListBeforeChristmas\"]                                                                                                         383\n",
       "[\"AlternativeAcronymInterpretations\"]                                                                                               381\n",
       "                                                                                                                                  ...  \n",
       "[\"Clinton\",\"Abedin\"]                                                                                                                  1\n",
       "[\"DemsInPhilly\",\"DemConvention\",\"DNCinPHL\"]                                                                                           1\n",
       "[\"Livestream\"]                                                                                                                        1\n",
       "[\"Clinton\",\"Trump\",\"ElectionDay\",\"Russia\",\"Clinton\",\"Trump\",\"ElectionDay\",\"Russia\"]                                                   1\n",
       "[\"phoneyreporting\",\"phoneyreporting\"]                                                                                                 1\n",
       "[\"SafetyFirst\"]                                                                                                                       1\n",
       "[\"SS\",\"Benghazi\",\"POTUS\"]                                                                                                             1\n",
       "[\"TourLife\"]                                                                                                                          1\n",
       "[\"ChristianLivesMatter\"]                                                                                                              1\n",
       "[\"blackriflecoffee\"]                                                                                                                  1\n",
       "[\"LorealTsingine\",\"LorealTsingine\",\"LorealTsingine\"]                                                                                  1\n",
       "[\"Freedom\",\"TRUDEAU\",\"SecretIllegalCrownCourt\",\"Trump\",\"Justice\"]                                                                     1\n",
       "[\"MIASATURDAY\"]                                                                                                                       1\n",
       "[\"IndictHillary\",\"maga\",\"paytoplay\",\"wikileaks\",\"LyingHillary\",\"IndictHillary\",\"maga\",\"paytoplay\",\"wikileaks\",\"LyingHillary\"]         1\n",
       "[\"NeverTrumpOrHillary\",\"Vote\",\"1Voice1vote\",\"JillNotHill\"]                                                                            1\n",
       "[\"Cubs\",\"Cubs\"]                                                                                                                       1\n",
       "[\"Happy55th\"]                                                                                                                         1\n",
       "[\"WTFAmericaIn5Words\",\"ElectionDay\",\"WTFAmericaIn5Words\",\"ElectionDay\"]                                                               1\n",
       "[\"sisterhugs\"]                                                                                                                        1\n",
       "[\"POTUS\",\"blackartists\",\"artwork\"]                                                                                                    1\n",
       "[\"McDAAG\"]                                                                                                                            1\n",
       "[\"tcot\",\"StandWithNancy\"]                                                                                                             1\n",
       "[\"HillaryForPrison\",\"CrookedHillary\",\"Hillary2016\",\"HillaryForPrison\",\"CrookedHillary\",\"Hillary2016\"]                                 1\n",
       "[\"HillaryPayToPlay\",\"CrookedHillary\"]                                                                                                 1\n",
       "[\"Obama\",\"FIGHTTerrorism\",\"Hillary\"]                                                                                                  1\n",
       "[\"embarassing\"]                                                                                                                       1\n",
       "[\"tcot\",\"Trump\",\"2A\",\"tcot\",\"Trump\",\"2A\"]                                                                                             1\n",
       "[\"BokoHaram\",\"Terrorism\",\"HillaryClinton\"]                                                                                            1\n",
       "[\"VoteTrump\",\"AmericaFirst\",\"maga\",\"Military\"]                                                                                        1\n",
       "[\"millennials\",\"NYandNJ\",\"Trump\"]                                                                                                     1\n",
       "Name: hashtags, Length: 18342, dtype: int64"
      ]
     },
     "execution_count": 54,
     "metadata": {},
     "output_type": "execute_result"
    }
   ],
   "source": [
    "tweets['hashtags'].value_counts()"
   ]
  },
  {
   "cell_type": "code",
   "execution_count": 67,
   "metadata": {},
   "outputs": [],
   "source": [
    "top_hashtags=tweets.groupby(['hashtags'])['favorite_count']"
   ]
  },
  {
   "cell_type": "code",
   "execution_count": null,
   "metadata": {},
   "outputs": [],
   "source": [
    "sns.jointplot('retweets', 'favorite_count', kind='scatter', data=tweets)\n",
    "plt.show()"
   ]
  },
  {
   "cell_type": "code",
   "execution_count": null,
   "metadata": {},
   "outputs": [],
   "source": []
  }
 ],
 "metadata": {
  "kernelspec": {
   "display_name": "Python 3",
   "language": "python",
   "name": "python3"
  },
  "language_info": {
   "codemirror_mode": {
    "name": "ipython",
    "version": 3
   },
   "file_extension": ".py",
   "mimetype": "text/x-python",
   "name": "python",
   "nbconvert_exporter": "python",
   "pygments_lexer": "ipython3",
   "version": "3.6.5"
  }
 },
 "nbformat": 4,
 "nbformat_minor": 2
}
