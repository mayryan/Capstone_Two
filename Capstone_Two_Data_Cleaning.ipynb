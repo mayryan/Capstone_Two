{
 "cells": [
  {
   "cell_type": "code",
   "execution_count": 2,
   "metadata": {},
   "outputs": [],
   "source": [
    "import numpy as np\n",
    "import pandas as pd"
   ]
  },
  {
   "cell_type": "code",
   "execution_count": 4,
   "metadata": {},
   "outputs": [],
   "source": [
    "tweets=pd.read_csv('C:\\\\Users\\\\Ryan May\\\\Documents\\\\Capstone_Two\\\\tweets.csv', low_memory=False)"
   ]
  },
  {
   "cell_type": "code",
   "execution_count": 5,
   "metadata": {},
   "outputs": [],
   "source": [
    "users=pd.read_csv('C:\\\\Users\\\\Ryan May\\\\Documents\\\\Capstone_Two\\\\users.csv', low_memory=False)"
   ]
  },
  {
   "cell_type": "code",
   "execution_count": 6,
   "metadata": {},
   "outputs": [
    {
     "data": {
      "text/plain": [
       "Index(['user_id', 'user_key', 'created_at', 'created_str', 'retweet_count',\n",
       "       'retweeted', 'favorite_count', 'text', 'tweet_id', 'source', 'hashtags',\n",
       "       'expanded_urls', 'posted', 'mentions', 'retweeted_status_id',\n",
       "       'in_reply_to_status_id'],\n",
       "      dtype='object')"
      ]
     },
     "execution_count": 6,
     "metadata": {},
     "output_type": "execute_result"
    }
   ],
   "source": [
    "tweets.columns"
   ]
  },
  {
   "cell_type": "code",
   "execution_count": 7,
   "metadata": {},
   "outputs": [
    {
     "data": {
      "text/plain": [
       "Index(['id', 'location', 'name', 'followers_count', 'statuses_count',\n",
       "       'time_zone', 'verified', 'lang', 'screen_name', 'description',\n",
       "       'created_at', 'favourites_count', 'friends_count', 'listed_count'],\n",
       "      dtype='object')"
      ]
     },
     "execution_count": 7,
     "metadata": {},
     "output_type": "execute_result"
    }
   ],
   "source": [
    "users.columns"
   ]
  },
  {
   "cell_type": "code",
   "execution_count": 11,
   "metadata": {},
   "outputs": [
    {
     "name": "stdout",
     "output_type": "stream",
     "text": [
      "<class 'pandas.core.frame.DataFrame'>\n",
      "RangeIndex: 203482 entries, 0 to 203481\n",
      "Data columns (total 16 columns):\n",
      "user_id                  195417 non-null float64\n",
      "user_key                 203482 non-null object\n",
      "created_at               203461 non-null float64\n",
      "created_str              203461 non-null object\n",
      "retweet_count            58083 non-null float64\n",
      "retweeted                58083 non-null object\n",
      "favorite_count           58083 non-null float64\n",
      "text                     203461 non-null object\n",
      "tweet_id                 201168 non-null float64\n",
      "source                   58084 non-null object\n",
      "hashtags                 203482 non-null object\n",
      "expanded_urls            203482 non-null object\n",
      "posted                   203482 non-null object\n",
      "mentions                 203482 non-null object\n",
      "retweeted_status_id      39651 non-null float64\n",
      "in_reply_to_status_id    559 non-null float64\n",
      "dtypes: float64(7), object(9)\n",
      "memory usage: 24.8+ MB\n"
     ]
    }
   ],
   "source": [
    "tweets.info()"
   ]
  },
  {
   "cell_type": "code",
   "execution_count": null,
   "metadata": {},
   "outputs": [],
   "source": []
  }
 ],
 "metadata": {
  "kernelspec": {
   "display_name": "Python 3",
   "language": "python",
   "name": "python3"
  },
  "language_info": {
   "codemirror_mode": {
    "name": "ipython",
    "version": 3
   },
   "file_extension": ".py",
   "mimetype": "text/x-python",
   "name": "python",
   "nbconvert_exporter": "python",
   "pygments_lexer": "ipython3",
   "version": "3.6.4"
  }
 },
 "nbformat": 4,
 "nbformat_minor": 2
}
